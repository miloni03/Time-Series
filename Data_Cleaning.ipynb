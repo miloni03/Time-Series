{
  "nbformat": 4,
  "nbformat_minor": 0,
  "metadata": {
    "colab": {
      "provenance": []
    },
    "kernelspec": {
      "name": "python3",
      "display_name": "Python 3"
    },
    "language_info": {
      "name": "python"
    }
  },
  "cells": [
    {
      "cell_type": "markdown",
      "source": [
        "**Import the libraries**"
      ],
      "metadata": {
        "id": "O61ugOrRY_3m"
      }
    },
    {
      "cell_type": "code",
      "source": [
        "import pandas as pd\n",
        "import numpy as np\n",
        "import matplotlib.pyplot as plt\n",
        "%matplotlib inline\n",
        "import seaborn as sns\n",
        "from scipy import stats\n",
        "from scipy.stats import norm"
      ],
      "metadata": {
        "id": "u-253_dQK0iO"
      },
      "execution_count": null,
      "outputs": []
    },
    {
      "cell_type": "markdown",
      "source": [
        "**Load the data**"
      ],
      "metadata": {
        "id": "IPqu1d12ZF6N"
      }
    },
    {
      "cell_type": "code",
      "execution_count": null,
      "metadata": {
        "id": "XyyHoJX5Ja7N"
      },
      "outputs": [],
      "source": [
        "df=pd.read_csv('/content/Electric_Production.csv', index_col='DATE', parse_dates=True)"
      ]
    },
    {
      "cell_type": "markdown",
      "source": [
        "**The head() function is used to get the first n rows.**\n",
        "\n",
        "This function returns the first n rows for the object based on position. It is useful for quickly testing if your object has the right type of data in it. Default Value is 5"
      ],
      "metadata": {
        "id": "d7dzHOI5bKnz"
      }
    },
    {
      "cell_type": "code",
      "source": [
        "df.head(10) # Displays 10 rows"
      ],
      "metadata": {
        "colab": {
          "base_uri": "https://localhost:8080/",
          "height": 394
        },
        "id": "ZPEsCbLwKxfv",
        "outputId": "e1e81349-badc-487b-e953-65afa01dde29"
      },
      "execution_count": null,
      "outputs": [
        {
          "output_type": "execute_result",
          "data": {
            "text/plain": [
              "            IPG2211A2N\n",
              "DATE                  \n",
              "1985-01-01     72.5052\n",
              "1985-02-01     70.6720\n",
              "1985-03-01     62.4502\n",
              "1985-04-01     57.4714\n",
              "1985-05-01     55.3151\n",
              "1985-06-01     58.0904\n",
              "1985-07-01     62.6202\n",
              "1985-08-01     63.2485\n",
              "1985-09-01     60.5846\n",
              "1985-10-01     56.3154"
            ],
            "text/html": [
              "\n",
              "  <div id=\"df-3d24fb4c-230a-4af4-a5da-8439c05452ef\">\n",
              "    <div class=\"colab-df-container\">\n",
              "      <div>\n",
              "<style scoped>\n",
              "    .dataframe tbody tr th:only-of-type {\n",
              "        vertical-align: middle;\n",
              "    }\n",
              "\n",
              "    .dataframe tbody tr th {\n",
              "        vertical-align: top;\n",
              "    }\n",
              "\n",
              "    .dataframe thead th {\n",
              "        text-align: right;\n",
              "    }\n",
              "</style>\n",
              "<table border=\"1\" class=\"dataframe\">\n",
              "  <thead>\n",
              "    <tr style=\"text-align: right;\">\n",
              "      <th></th>\n",
              "      <th>IPG2211A2N</th>\n",
              "    </tr>\n",
              "    <tr>\n",
              "      <th>DATE</th>\n",
              "      <th></th>\n",
              "    </tr>\n",
              "  </thead>\n",
              "  <tbody>\n",
              "    <tr>\n",
              "      <th>1985-01-01</th>\n",
              "      <td>72.5052</td>\n",
              "    </tr>\n",
              "    <tr>\n",
              "      <th>1985-02-01</th>\n",
              "      <td>70.6720</td>\n",
              "    </tr>\n",
              "    <tr>\n",
              "      <th>1985-03-01</th>\n",
              "      <td>62.4502</td>\n",
              "    </tr>\n",
              "    <tr>\n",
              "      <th>1985-04-01</th>\n",
              "      <td>57.4714</td>\n",
              "    </tr>\n",
              "    <tr>\n",
              "      <th>1985-05-01</th>\n",
              "      <td>55.3151</td>\n",
              "    </tr>\n",
              "    <tr>\n",
              "      <th>1985-06-01</th>\n",
              "      <td>58.0904</td>\n",
              "    </tr>\n",
              "    <tr>\n",
              "      <th>1985-07-01</th>\n",
              "      <td>62.6202</td>\n",
              "    </tr>\n",
              "    <tr>\n",
              "      <th>1985-08-01</th>\n",
              "      <td>63.2485</td>\n",
              "    </tr>\n",
              "    <tr>\n",
              "      <th>1985-09-01</th>\n",
              "      <td>60.5846</td>\n",
              "    </tr>\n",
              "    <tr>\n",
              "      <th>1985-10-01</th>\n",
              "      <td>56.3154</td>\n",
              "    </tr>\n",
              "  </tbody>\n",
              "</table>\n",
              "</div>\n",
              "      <button class=\"colab-df-convert\" onclick=\"convertToInteractive('df-3d24fb4c-230a-4af4-a5da-8439c05452ef')\"\n",
              "              title=\"Convert this dataframe to an interactive table.\"\n",
              "              style=\"display:none;\">\n",
              "        \n",
              "  <svg xmlns=\"http://www.w3.org/2000/svg\" height=\"24px\"viewBox=\"0 0 24 24\"\n",
              "       width=\"24px\">\n",
              "    <path d=\"M0 0h24v24H0V0z\" fill=\"none\"/>\n",
              "    <path d=\"M18.56 5.44l.94 2.06.94-2.06 2.06-.94-2.06-.94-.94-2.06-.94 2.06-2.06.94zm-11 1L8.5 8.5l.94-2.06 2.06-.94-2.06-.94L8.5 2.5l-.94 2.06-2.06.94zm10 10l.94 2.06.94-2.06 2.06-.94-2.06-.94-.94-2.06-.94 2.06-2.06.94z\"/><path d=\"M17.41 7.96l-1.37-1.37c-.4-.4-.92-.59-1.43-.59-.52 0-1.04.2-1.43.59L10.3 9.45l-7.72 7.72c-.78.78-.78 2.05 0 2.83L4 21.41c.39.39.9.59 1.41.59.51 0 1.02-.2 1.41-.59l7.78-7.78 2.81-2.81c.8-.78.8-2.07 0-2.86zM5.41 20L4 18.59l7.72-7.72 1.47 1.35L5.41 20z\"/>\n",
              "  </svg>\n",
              "      </button>\n",
              "      \n",
              "  <style>\n",
              "    .colab-df-container {\n",
              "      display:flex;\n",
              "      flex-wrap:wrap;\n",
              "      gap: 12px;\n",
              "    }\n",
              "\n",
              "    .colab-df-convert {\n",
              "      background-color: #E8F0FE;\n",
              "      border: none;\n",
              "      border-radius: 50%;\n",
              "      cursor: pointer;\n",
              "      display: none;\n",
              "      fill: #1967D2;\n",
              "      height: 32px;\n",
              "      padding: 0 0 0 0;\n",
              "      width: 32px;\n",
              "    }\n",
              "\n",
              "    .colab-df-convert:hover {\n",
              "      background-color: #E2EBFA;\n",
              "      box-shadow: 0px 1px 2px rgba(60, 64, 67, 0.3), 0px 1px 3px 1px rgba(60, 64, 67, 0.15);\n",
              "      fill: #174EA6;\n",
              "    }\n",
              "\n",
              "    [theme=dark] .colab-df-convert {\n",
              "      background-color: #3B4455;\n",
              "      fill: #D2E3FC;\n",
              "    }\n",
              "\n",
              "    [theme=dark] .colab-df-convert:hover {\n",
              "      background-color: #434B5C;\n",
              "      box-shadow: 0px 1px 3px 1px rgba(0, 0, 0, 0.15);\n",
              "      filter: drop-shadow(0px 1px 2px rgba(0, 0, 0, 0.3));\n",
              "      fill: #FFFFFF;\n",
              "    }\n",
              "  </style>\n",
              "\n",
              "      <script>\n",
              "        const buttonEl =\n",
              "          document.querySelector('#df-3d24fb4c-230a-4af4-a5da-8439c05452ef button.colab-df-convert');\n",
              "        buttonEl.style.display =\n",
              "          google.colab.kernel.accessAllowed ? 'block' : 'none';\n",
              "\n",
              "        async function convertToInteractive(key) {\n",
              "          const element = document.querySelector('#df-3d24fb4c-230a-4af4-a5da-8439c05452ef');\n",
              "          const dataTable =\n",
              "            await google.colab.kernel.invokeFunction('convertToInteractive',\n",
              "                                                     [key], {});\n",
              "          if (!dataTable) return;\n",
              "\n",
              "          const docLinkHtml = 'Like what you see? Visit the ' +\n",
              "            '<a target=\"_blank\" href=https://colab.research.google.com/notebooks/data_table.ipynb>data table notebook</a>'\n",
              "            + ' to learn more about interactive tables.';\n",
              "          element.innerHTML = '';\n",
              "          dataTable['output_type'] = 'display_data';\n",
              "          await google.colab.output.renderOutput(dataTable, element);\n",
              "          const docLink = document.createElement('div');\n",
              "          docLink.innerHTML = docLinkHtml;\n",
              "          element.appendChild(docLink);\n",
              "        }\n",
              "      </script>\n",
              "    </div>\n",
              "  </div>\n",
              "  "
            ]
          },
          "metadata": {},
          "execution_count": 12
        }
      ]
    },
    {
      "cell_type": "markdown",
      "source": [
        "**Now lets analyze the data and get basic overview of what we’re dealing with.**"
      ],
      "metadata": {
        "id": "P8vsQbAaZM6a"
      }
    },
    {
      "cell_type": "markdown",
      "source": [
        "Pandas DataFrame.columns attribute return the column labels of the given Dataframe."
      ],
      "metadata": {
        "id": "DCSAUxiNb8J4"
      }
    },
    {
      "cell_type": "code",
      "source": [
        "df.columns"
      ],
      "metadata": {
        "colab": {
          "base_uri": "https://localhost:8080/"
        },
        "id": "Eul3vz5aK7b1",
        "outputId": "67cc7e2f-3889-4dfe-b7ed-599d9879a24d"
      },
      "execution_count": null,
      "outputs": [
        {
          "output_type": "execute_result",
          "data": {
            "text/plain": [
              "Index(['IPG2211A2N'], dtype='object')"
            ]
          },
          "metadata": {},
          "execution_count": 4
        }
      ]
    },
    {
      "cell_type": "markdown",
      "source": [
        "As we can see that there are two columns (Date and Electric Production IP index in US using data from 1985 to 2017)"
      ],
      "metadata": {
        "id": "xBJcVCRWb_WL"
      }
    },
    {
      "cell_type": "markdown",
      "source": [
        "The duplicated().sum() method returns a count of Series with True and False values that describe which rows in the DataFrame are duplicated and not."
      ],
      "metadata": {
        "id": "yeOmeQ5PchNp"
      }
    },
    {
      "cell_type": "code",
      "source": [
        "df.duplicated().sum()"
      ],
      "metadata": {
        "colab": {
          "base_uri": "https://localhost:8080/"
        },
        "id": "VlR4WchBaPYu",
        "outputId": "7a3c791f-5e5c-4d92-e3e2-14fe4d44187d"
      },
      "execution_count": null,
      "outputs": [
        {
          "output_type": "execute_result",
          "data": {
            "text/plain": [
              "0"
            ]
          },
          "metadata": {},
          "execution_count": 6
        }
      ]
    },
    {
      "cell_type": "markdown",
      "source": [
        "The values property is used to get a Numpy representation of the DataFrame.\n",
        "\n",
        "Only the values in the DataFrame will be returned, the axes labels will be removed."
      ],
      "metadata": {
        "id": "mUFtsbQYc-ID"
      }
    },
    {
      "cell_type": "code",
      "source": [
        "df.values"
      ],
      "metadata": {
        "colab": {
          "base_uri": "https://localhost:8080/"
        },
        "id": "B1utSHmwO39R",
        "outputId": "b91d970c-cdcc-4e1f-e2a2-b6d2c8f972fa"
      },
      "execution_count": null,
      "outputs": [
        {
          "output_type": "execute_result",
          "data": {
            "text/plain": [
              "array([[ 72.5052],\n",
              "       [ 70.672 ],\n",
              "       [ 62.4502],\n",
              "       [ 57.4714],\n",
              "       [ 55.3151],\n",
              "       [ 58.0904],\n",
              "       [ 62.6202],\n",
              "       [ 63.2485],\n",
              "       [ 60.5846],\n",
              "       [ 56.3154],\n",
              "       [ 58.0005],\n",
              "       [ 68.7145],\n",
              "       [ 73.3057],\n",
              "       [ 67.9869],\n",
              "       [ 62.2221],\n",
              "       [ 57.0329],\n",
              "       [ 55.8137],\n",
              "       [ 59.9005],\n",
              "       [ 65.7655],\n",
              "       [ 64.4816],\n",
              "       [ 61.0005],\n",
              "       [ 57.5322],\n",
              "       [ 59.3417],\n",
              "       [ 68.1354],\n",
              "       [ 73.8152],\n",
              "       [ 70.062 ],\n",
              "       [ 65.61  ],\n",
              "       [ 60.1586],\n",
              "       [ 58.8734],\n",
              "       [ 63.8918],\n",
              "       [ 68.8694],\n",
              "       [ 70.0669],\n",
              "       [ 64.1151],\n",
              "       [ 60.3789],\n",
              "       [ 62.4643],\n",
              "       [ 70.5777],\n",
              "       [ 79.8703],\n",
              "       [ 76.1622],\n",
              "       [ 70.2928],\n",
              "       [ 63.2384],\n",
              "       [ 61.4065],\n",
              "       [ 67.1097],\n",
              "       [ 72.9816],\n",
              "       [ 75.7655],\n",
              "       [ 67.5152],\n",
              "       [ 63.2832],\n",
              "       [ 65.1078],\n",
              "       [ 73.8631],\n",
              "       [ 77.9188],\n",
              "       [ 76.6822],\n",
              "       [ 73.3523],\n",
              "       [ 65.1081],\n",
              "       [ 63.6892],\n",
              "       [ 68.4722],\n",
              "       [ 74.0301],\n",
              "       [ 75.0448],\n",
              "       [ 69.3053],\n",
              "       [ 65.8735],\n",
              "       [ 69.0706],\n",
              "       [ 84.1949],\n",
              "       [ 84.3598],\n",
              "       [ 77.1726],\n",
              "       [ 73.1964],\n",
              "       [ 67.2781],\n",
              "       [ 65.8218],\n",
              "       [ 71.4654],\n",
              "       [ 76.614 ],\n",
              "       [ 77.1052],\n",
              "       [ 73.061 ],\n",
              "       [ 67.4365],\n",
              "       [ 68.5665],\n",
              "       [ 77.6839],\n",
              "       [ 86.0214],\n",
              "       [ 77.5573],\n",
              "       [ 73.365 ],\n",
              "       [ 67.15  ],\n",
              "       [ 68.8162],\n",
              "       [ 74.8448],\n",
              "       [ 80.0928],\n",
              "       [ 79.1606],\n",
              "       [ 73.5743],\n",
              "       [ 68.7538],\n",
              "       [ 72.5166],\n",
              "       [ 79.4894],\n",
              "       [ 85.2855],\n",
              "       [ 80.1643],\n",
              "       [ 74.5275],\n",
              "       [ 69.6441],\n",
              "       [ 67.1784],\n",
              "       [ 71.2078],\n",
              "       [ 77.5081],\n",
              "       [ 76.5374],\n",
              "       [ 72.3541],\n",
              "       [ 69.0286],\n",
              "       [ 73.4992],\n",
              "       [ 84.5159],\n",
              "       [ 87.9464],\n",
              "       [ 84.5561],\n",
              "       [ 79.4747],\n",
              "       [ 71.0578],\n",
              "       [ 67.6762],\n",
              "       [ 74.3297],\n",
              "       [ 82.1048],\n",
              "       [ 82.0605],\n",
              "       [ 74.6031],\n",
              "       [ 69.681 ],\n",
              "       [ 74.4292],\n",
              "       [ 84.2284],\n",
              "       [ 94.1386],\n",
              "       [ 87.1607],\n",
              "       [ 79.2456],\n",
              "       [ 70.9749],\n",
              "       [ 69.3844],\n",
              "       [ 77.9831],\n",
              "       [ 83.277 ],\n",
              "       [ 81.8872],\n",
              "       [ 75.6826],\n",
              "       [ 71.2661],\n",
              "       [ 75.2458],\n",
              "       [ 84.8147],\n",
              "       [ 92.4532],\n",
              "       [ 87.4033],\n",
              "       [ 81.2661],\n",
              "       [ 73.8167],\n",
              "       [ 73.2682],\n",
              "       [ 78.3026],\n",
              "       [ 85.9841],\n",
              "       [ 89.5467],\n",
              "       [ 78.5035],\n",
              "       [ 73.7066],\n",
              "       [ 79.6543],\n",
              "       [ 90.8251],\n",
              "       [ 98.9732],\n",
              "       [ 92.8883],\n",
              "       [ 86.9356],\n",
              "       [ 77.2214],\n",
              "       [ 76.6826],\n",
              "       [ 81.9306],\n",
              "       [ 85.9606],\n",
              "       [ 86.5562],\n",
              "       [ 79.1919],\n",
              "       [ 74.6891],\n",
              "       [ 81.074 ],\n",
              "       [ 90.4855],\n",
              "       [ 98.4613],\n",
              "       [ 89.7795],\n",
              "       [ 83.0125],\n",
              "       [ 76.1476],\n",
              "       [ 73.8471],\n",
              "       [ 79.7645],\n",
              "       [ 88.4519],\n",
              "       [ 87.7828],\n",
              "       [ 81.9386],\n",
              "       [ 77.5027],\n",
              "       [ 82.0448],\n",
              "       [ 92.101 ],\n",
              "       [ 94.792 ],\n",
              "       [ 87.82  ],\n",
              "       [ 86.5549],\n",
              "       [ 76.7521],\n",
              "       [ 78.0303],\n",
              "       [ 86.4579],\n",
              "       [ 93.8379],\n",
              "       [ 93.531 ],\n",
              "       [ 87.5414],\n",
              "       [ 80.0924],\n",
              "       [ 81.4349],\n",
              "       [ 91.6841],\n",
              "       [102.1348],\n",
              "       [ 91.1829],\n",
              "       [ 90.7381],\n",
              "       [ 80.5176],\n",
              "       [ 79.3887],\n",
              "       [ 87.8431],\n",
              "       [ 97.4903],\n",
              "       [ 96.4157],\n",
              "       [ 87.2248],\n",
              "       [ 80.6409],\n",
              "       [ 82.2025],\n",
              "       [ 94.5113],\n",
              "       [102.2301],\n",
              "       [ 94.2989],\n",
              "       [ 88.0927],\n",
              "       [ 81.4425],\n",
              "       [ 84.4552],\n",
              "       [ 91.0406],\n",
              "       [ 95.9957],\n",
              "       [ 99.3704],\n",
              "       [ 90.9178],\n",
              "       [ 83.1408],\n",
              "       [ 88.041 ],\n",
              "       [102.4558],\n",
              "       [109.1081],\n",
              "       [ 97.1717],\n",
              "       [ 92.8283],\n",
              "       [ 82.915 ],\n",
              "       [ 82.5465],\n",
              "       [ 90.3955],\n",
              "       [ 96.074 ],\n",
              "       [ 99.5534],\n",
              "       [ 88.281 ],\n",
              "       [ 82.686 ],\n",
              "       [ 82.9319],\n",
              "       [ 93.0381],\n",
              "       [102.9955],\n",
              "       [ 95.2075],\n",
              "       [ 93.2556],\n",
              "       [ 85.795 ],\n",
              "       [ 85.2351],\n",
              "       [ 93.1896],\n",
              "       [102.393 ],\n",
              "       [101.6293],\n",
              "       [ 93.3089],\n",
              "       [ 86.9002],\n",
              "       [ 88.5749],\n",
              "       [100.8003],\n",
              "       [110.1807],\n",
              "       [103.8413],\n",
              "       [ 94.5532],\n",
              "       [ 85.062 ],\n",
              "       [ 85.4653],\n",
              "       [ 91.0761],\n",
              "       [102.22  ],\n",
              "       [104.4682],\n",
              "       [ 92.9135],\n",
              "       [ 86.5047],\n",
              "       [ 88.5735],\n",
              "       [103.5428],\n",
              "       [113.7226],\n",
              "       [106.159 ],\n",
              "       [ 95.4029],\n",
              "       [ 86.7233],\n",
              "       [ 89.0302],\n",
              "       [ 95.5045],\n",
              "       [101.7948],\n",
              "       [100.2025],\n",
              "       [ 94.024 ],\n",
              "       [ 87.5262],\n",
              "       [ 89.6144],\n",
              "       [105.7263],\n",
              "       [111.1614],\n",
              "       [101.7795],\n",
              "       [ 98.9565],\n",
              "       [ 86.4776],\n",
              "       [ 87.2234],\n",
              "       [ 99.5076],\n",
              "       [108.3501],\n",
              "       [109.4862],\n",
              "       [ 99.1155],\n",
              "       [ 89.7567],\n",
              "       [ 90.4587],\n",
              "       [108.2257],\n",
              "       [104.4724],\n",
              "       [101.5196],\n",
              "       [ 98.4017],\n",
              "       [ 87.5093],\n",
              "       [ 90.0222],\n",
              "       [100.5244],\n",
              "       [110.9503],\n",
              "       [111.5192],\n",
              "       [ 95.7632],\n",
              "       [ 90.3738],\n",
              "       [ 92.3566],\n",
              "       [103.066 ],\n",
              "       [112.0576],\n",
              "       [111.8399],\n",
              "       [ 99.1925],\n",
              "       [ 90.8177],\n",
              "       [ 92.0587],\n",
              "       [100.9676],\n",
              "       [107.5686],\n",
              "       [114.1036],\n",
              "       [101.5316],\n",
              "       [ 93.0068],\n",
              "       [ 93.9126],\n",
              "       [106.7528],\n",
              "       [114.8331],\n",
              "       [108.2353],\n",
              "       [100.4386],\n",
              "       [ 90.9944],\n",
              "       [ 91.2348],\n",
              "       [103.9581],\n",
              "       [110.7631],\n",
              "       [107.5665],\n",
              "       [ 97.7183],\n",
              "       [ 90.9979],\n",
              "       [ 93.8057],\n",
              "       [109.4221],\n",
              "       [116.8316],\n",
              "       [104.4202],\n",
              "       [ 97.8529],\n",
              "       [ 88.1973],\n",
              "       [ 87.5366],\n",
              "       [ 97.2387],\n",
              "       [103.9086],\n",
              "       [105.7486],\n",
              "       [ 94.8823],\n",
              "       [ 89.2977],\n",
              "       [ 89.3585],\n",
              "       [110.6844],\n",
              "       [119.0166],\n",
              "       [110.533 ],\n",
              "       [ 98.2672],\n",
              "       [ 86.3   ],\n",
              "       [ 90.8364],\n",
              "       [104.3538],\n",
              "       [112.8066],\n",
              "       [112.9014],\n",
              "       [100.1209],\n",
              "       [ 88.9251],\n",
              "       [ 92.775 ],\n",
              "       [114.3266],\n",
              "       [119.488 ],\n",
              "       [107.3753],\n",
              "       [ 99.1028],\n",
              "       [ 89.3583],\n",
              "       [ 90.0698],\n",
              "       [102.8204],\n",
              "       [114.7068],\n",
              "       [113.5958],\n",
              "       [ 99.4712],\n",
              "       [ 90.3566],\n",
              "       [ 93.8095],\n",
              "       [107.3312],\n",
              "       [111.9646],\n",
              "       [103.3679],\n",
              "       [ 93.5772],\n",
              "       [ 87.5566],\n",
              "       [ 92.7603],\n",
              "       [101.14  ],\n",
              "       [113.0357],\n",
              "       [109.8601],\n",
              "       [ 96.7431],\n",
              "       [ 90.3805],\n",
              "       [ 94.3417],\n",
              "       [105.2722],\n",
              "       [115.501 ],\n",
              "       [106.734 ],\n",
              "       [102.9948],\n",
              "       [ 91.0092],\n",
              "       [ 90.9634],\n",
              "       [100.6957],\n",
              "       [110.148 ],\n",
              "       [108.1756],\n",
              "       [ 99.2809],\n",
              "       [ 91.7871],\n",
              "       [ 97.2853],\n",
              "       [113.4732],\n",
              "       [124.2549],\n",
              "       [112.8811],\n",
              "       [104.7631],\n",
              "       [ 90.2867],\n",
              "       [ 92.134 ],\n",
              "       [101.878 ],\n",
              "       [108.5497],\n",
              "       [108.194 ],\n",
              "       [100.4172],\n",
              "       [ 92.3837],\n",
              "       [ 99.7033],\n",
              "       [109.3477],\n",
              "       [120.2696],\n",
              "       [116.3788],\n",
              "       [104.4706],\n",
              "       [ 89.7461],\n",
              "       [ 91.093 ],\n",
              "       [102.6495],\n",
              "       [111.6354],\n",
              "       [110.5925],\n",
              "       [101.9204],\n",
              "       [ 91.5959],\n",
              "       [ 93.0628],\n",
              "       [103.2203],\n",
              "       [117.0837],\n",
              "       [106.6688],\n",
              "       [ 95.3548],\n",
              "       [ 89.3254],\n",
              "       [ 90.7369],\n",
              "       [104.0375],\n",
              "       [114.5397],\n",
              "       [115.5159],\n",
              "       [102.7637],\n",
              "       [ 91.4867],\n",
              "       [ 92.89  ],\n",
              "       [112.7694],\n",
              "       [114.8505],\n",
              "       [ 99.4901],\n",
              "       [101.0396],\n",
              "       [ 88.353 ],\n",
              "       [ 92.0805],\n",
              "       [102.1532],\n",
              "       [112.1538],\n",
              "       [108.9312],\n",
              "       [ 98.6154],\n",
              "       [ 93.6137],\n",
              "       [ 97.3359],\n",
              "       [114.7212],\n",
              "       [129.4048]])"
            ]
          },
          "metadata": {},
          "execution_count": 7
        }
      ]
    },
    {
      "cell_type": "markdown",
      "source": [
        "The info() method prints information about the DataFrame. The information contains the number of columns, column labels, column data types, memory usage, range index, and the number of cells in each column (non-null values). "
      ],
      "metadata": {
        "id": "YdDzU6fbdHEP"
      }
    },
    {
      "cell_type": "code",
      "source": [
        "df.info()"
      ],
      "metadata": {
        "colab": {
          "base_uri": "https://localhost:8080/"
        },
        "id": "z7pbAQDzLXml",
        "outputId": "f92a9b32-9b61-4fac-a20c-a44d55cc30d9"
      },
      "execution_count": null,
      "outputs": [
        {
          "output_type": "stream",
          "name": "stdout",
          "text": [
            "<class 'pandas.core.frame.DataFrame'>\n",
            "DatetimeIndex: 397 entries, 1985-01-01 to 2018-01-01\n",
            "Data columns (total 1 columns):\n",
            " #   Column      Non-Null Count  Dtype  \n",
            "---  ------      --------------  -----  \n",
            " 0   IPG2211A2N  397 non-null    float64\n",
            "dtypes: float64(1)\n",
            "memory usage: 6.2 KB\n"
          ]
        }
      ]
    },
    {
      "cell_type": "markdown",
      "source": [
        "The function dataframe. isnull().sum() returns the number of missing values in the data set."
      ],
      "metadata": {
        "id": "QoIQ5Y7jdSFc"
      }
    },
    {
      "cell_type": "code",
      "source": [
        "df.isnull().sum()"
      ],
      "metadata": {
        "colab": {
          "base_uri": "https://localhost:8080/"
        },
        "id": "OcAEN-kXL69b",
        "outputId": "19be3868-7e19-4168-987e-8267aa63c25b"
      },
      "execution_count": null,
      "outputs": [
        {
          "output_type": "execute_result",
          "data": {
            "text/plain": [
              "IPG2211A2N    0\n",
              "dtype: int64"
            ]
          },
          "metadata": {},
          "execution_count": 9
        }
      ]
    },
    {
      "cell_type": "markdown",
      "source": [
        "The describe() method returns description of the data in the DataFrame. If the DataFrame contains numerical data, the description contains these information for each column: count - The number of not-empty values. mean - The average (mean) value."
      ],
      "metadata": {
        "id": "aAyBkeJcdgtl"
      }
    },
    {
      "cell_type": "code",
      "source": [
        "df.describe()"
      ],
      "metadata": {
        "colab": {
          "base_uri": "https://localhost:8080/",
          "height": 300
        },
        "id": "yBIv_9w3dd_B",
        "outputId": "e9844ecc-f2ce-494e-a72f-6954b664bd18"
      },
      "execution_count": null,
      "outputs": [
        {
          "output_type": "execute_result",
          "data": {
            "text/plain": [
              "       IPG2211A2N\n",
              "count  397.000000\n",
              "mean    88.847218\n",
              "std     15.387834\n",
              "min     55.315100\n",
              "25%     77.105200\n",
              "50%     89.779500\n",
              "75%    100.524400\n",
              "max    129.404800"
            ],
            "text/html": [
              "\n",
              "  <div id=\"df-a4ca4f62-1013-4205-b6eb-e446a70b9927\">\n",
              "    <div class=\"colab-df-container\">\n",
              "      <div>\n",
              "<style scoped>\n",
              "    .dataframe tbody tr th:only-of-type {\n",
              "        vertical-align: middle;\n",
              "    }\n",
              "\n",
              "    .dataframe tbody tr th {\n",
              "        vertical-align: top;\n",
              "    }\n",
              "\n",
              "    .dataframe thead th {\n",
              "        text-align: right;\n",
              "    }\n",
              "</style>\n",
              "<table border=\"1\" class=\"dataframe\">\n",
              "  <thead>\n",
              "    <tr style=\"text-align: right;\">\n",
              "      <th></th>\n",
              "      <th>IPG2211A2N</th>\n",
              "    </tr>\n",
              "  </thead>\n",
              "  <tbody>\n",
              "    <tr>\n",
              "      <th>count</th>\n",
              "      <td>397.000000</td>\n",
              "    </tr>\n",
              "    <tr>\n",
              "      <th>mean</th>\n",
              "      <td>88.847218</td>\n",
              "    </tr>\n",
              "    <tr>\n",
              "      <th>std</th>\n",
              "      <td>15.387834</td>\n",
              "    </tr>\n",
              "    <tr>\n",
              "      <th>min</th>\n",
              "      <td>55.315100</td>\n",
              "    </tr>\n",
              "    <tr>\n",
              "      <th>25%</th>\n",
              "      <td>77.105200</td>\n",
              "    </tr>\n",
              "    <tr>\n",
              "      <th>50%</th>\n",
              "      <td>89.779500</td>\n",
              "    </tr>\n",
              "    <tr>\n",
              "      <th>75%</th>\n",
              "      <td>100.524400</td>\n",
              "    </tr>\n",
              "    <tr>\n",
              "      <th>max</th>\n",
              "      <td>129.404800</td>\n",
              "    </tr>\n",
              "  </tbody>\n",
              "</table>\n",
              "</div>\n",
              "      <button class=\"colab-df-convert\" onclick=\"convertToInteractive('df-a4ca4f62-1013-4205-b6eb-e446a70b9927')\"\n",
              "              title=\"Convert this dataframe to an interactive table.\"\n",
              "              style=\"display:none;\">\n",
              "        \n",
              "  <svg xmlns=\"http://www.w3.org/2000/svg\" height=\"24px\"viewBox=\"0 0 24 24\"\n",
              "       width=\"24px\">\n",
              "    <path d=\"M0 0h24v24H0V0z\" fill=\"none\"/>\n",
              "    <path d=\"M18.56 5.44l.94 2.06.94-2.06 2.06-.94-2.06-.94-.94-2.06-.94 2.06-2.06.94zm-11 1L8.5 8.5l.94-2.06 2.06-.94-2.06-.94L8.5 2.5l-.94 2.06-2.06.94zm10 10l.94 2.06.94-2.06 2.06-.94-2.06-.94-.94-2.06-.94 2.06-2.06.94z\"/><path d=\"M17.41 7.96l-1.37-1.37c-.4-.4-.92-.59-1.43-.59-.52 0-1.04.2-1.43.59L10.3 9.45l-7.72 7.72c-.78.78-.78 2.05 0 2.83L4 21.41c.39.39.9.59 1.41.59.51 0 1.02-.2 1.41-.59l7.78-7.78 2.81-2.81c.8-.78.8-2.07 0-2.86zM5.41 20L4 18.59l7.72-7.72 1.47 1.35L5.41 20z\"/>\n",
              "  </svg>\n",
              "      </button>\n",
              "      \n",
              "  <style>\n",
              "    .colab-df-container {\n",
              "      display:flex;\n",
              "      flex-wrap:wrap;\n",
              "      gap: 12px;\n",
              "    }\n",
              "\n",
              "    .colab-df-convert {\n",
              "      background-color: #E8F0FE;\n",
              "      border: none;\n",
              "      border-radius: 50%;\n",
              "      cursor: pointer;\n",
              "      display: none;\n",
              "      fill: #1967D2;\n",
              "      height: 32px;\n",
              "      padding: 0 0 0 0;\n",
              "      width: 32px;\n",
              "    }\n",
              "\n",
              "    .colab-df-convert:hover {\n",
              "      background-color: #E2EBFA;\n",
              "      box-shadow: 0px 1px 2px rgba(60, 64, 67, 0.3), 0px 1px 3px 1px rgba(60, 64, 67, 0.15);\n",
              "      fill: #174EA6;\n",
              "    }\n",
              "\n",
              "    [theme=dark] .colab-df-convert {\n",
              "      background-color: #3B4455;\n",
              "      fill: #D2E3FC;\n",
              "    }\n",
              "\n",
              "    [theme=dark] .colab-df-convert:hover {\n",
              "      background-color: #434B5C;\n",
              "      box-shadow: 0px 1px 3px 1px rgba(0, 0, 0, 0.15);\n",
              "      filter: drop-shadow(0px 1px 2px rgba(0, 0, 0, 0.3));\n",
              "      fill: #FFFFFF;\n",
              "    }\n",
              "  </style>\n",
              "\n",
              "      <script>\n",
              "        const buttonEl =\n",
              "          document.querySelector('#df-a4ca4f62-1013-4205-b6eb-e446a70b9927 button.colab-df-convert');\n",
              "        buttonEl.style.display =\n",
              "          google.colab.kernel.accessAllowed ? 'block' : 'none';\n",
              "\n",
              "        async function convertToInteractive(key) {\n",
              "          const element = document.querySelector('#df-a4ca4f62-1013-4205-b6eb-e446a70b9927');\n",
              "          const dataTable =\n",
              "            await google.colab.kernel.invokeFunction('convertToInteractive',\n",
              "                                                     [key], {});\n",
              "          if (!dataTable) return;\n",
              "\n",
              "          const docLinkHtml = 'Like what you see? Visit the ' +\n",
              "            '<a target=\"_blank\" href=https://colab.research.google.com/notebooks/data_table.ipynb>data table notebook</a>'\n",
              "            + ' to learn more about interactive tables.';\n",
              "          element.innerHTML = '';\n",
              "          dataTable['output_type'] = 'display_data';\n",
              "          await google.colab.output.renderOutput(dataTable, element);\n",
              "          const docLink = document.createElement('div');\n",
              "          docLink.innerHTML = docLinkHtml;\n",
              "          element.appendChild(docLink);\n",
              "        }\n",
              "      </script>\n",
              "    </div>\n",
              "  </div>\n",
              "  "
            ]
          },
          "metadata": {},
          "execution_count": 13
        }
      ]
    },
    {
      "cell_type": "markdown",
      "source": [
        "The shape of a DataFrame is a tuple of array dimensions that tells the number of rows and columns of a given DataFrame. "
      ],
      "metadata": {
        "id": "W22svtPvfZwd"
      }
    },
    {
      "cell_type": "code",
      "source": [
        "df.shape"
      ],
      "metadata": {
        "colab": {
          "base_uri": "https://localhost:8080/"
        },
        "id": "aXbO4y5wfQun",
        "outputId": "905c24e0-5c2d-4aad-edc8-099dbbd0617b"
      },
      "execution_count": null,
      "outputs": [
        {
          "output_type": "execute_result",
          "data": {
            "text/plain": [
              "(397, 1)"
            ]
          },
          "metadata": {},
          "execution_count": 21
        }
      ]
    },
    {
      "cell_type": "markdown",
      "source": [
        "**Data visualization is the most important part of any analysis.**\n",
        "\n",
        " Matplotlib is an amazing python library which can be used to plot pandas dataframe. There are various ways in which a plot can be generated depending upon the requirement. "
      ],
      "metadata": {
        "id": "-5sm2Qm1dv01"
      }
    },
    {
      "cell_type": "code",
      "source": [
        "plt.xlabel(\"Date\")\n",
        "plt.ylabel(\"IPG2211A2N\")\n",
        "plt.title(\"Electric Production Dataset\")\n",
        "plt.plot(df)"
      ],
      "metadata": {
        "colab": {
          "base_uri": "https://localhost:8080/",
          "height": 312
        },
        "id": "YMKI0_EdL0OE",
        "outputId": "c6274019-c6df-4301-c5c5-d06de3e3e71c"
      },
      "execution_count": null,
      "outputs": [
        {
          "output_type": "execute_result",
          "data": {
            "text/plain": [
              "[<matplotlib.lines.Line2D at 0x7f72912636d0>]"
            ]
          },
          "metadata": {},
          "execution_count": 10
        },
        {
          "output_type": "display_data",
          "data": {
            "text/plain": [
              "<Figure size 432x288 with 1 Axes>"
            ],
            "image/png": "[encoded data removed]"
          },
          "metadata": {
            "needs_background": "light"
          }
        }
      ]
    },
    {
      "cell_type": "code",
      "source": [
        "df.plot(style='k.')\n",
        "plt.show()"
      ],
      "metadata": {
        "colab": {
          "base_uri": "https://localhost:8080/",
          "height": 279
        },
        "id": "yqzfhgn9NM9r",
        "outputId": "47dbe4e7-3a43-425a-8fe2-9cae3eceb365"
      },
      "execution_count": null,
      "outputs": [
        {
          "output_type": "display_data",
          "data": {
            "text/plain": [
              "<Figure size 432x288 with 1 Axes>"
            ],
            "image/png": "[encoded data removed]"
          },
          "metadata": {
            "needs_background": "light"
          }
        }
      ]
    },
    {
      "cell_type": "code",
      "source": [
        "plt.hist(df[\"IPG2211A2N\"])\n",
        "plt.show()"
      ],
      "metadata": {
        "colab": {
          "base_uri": "https://localhost:8080/",
          "height": 265
        },
        "id": "KU1xBi1Ed8fv",
        "outputId": "96394b99-3e7b-4f93-c08d-5f304199989d"
      },
      "execution_count": null,
      "outputs": [
        {
          "output_type": "display_data",
          "data": {
            "text/plain": [
              "<Figure size 432x288 with 1 Axes>"
            ],
            "image/png": "[encoded data removed]"
          },
          "metadata": {
            "needs_background": "light"
          }
        }
      ]
    }
  ]
}