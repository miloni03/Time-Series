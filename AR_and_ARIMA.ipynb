{
  "nbformat": 4,
  "nbformat_minor": 0,
  "metadata": {
    "colab": {
      "provenance": []
    },
    "kernelspec": {
      "name": "python3",
      "display_name": "Python 3"
    },
    "language_info": {
      "name": "python"
    }
  },
  "cells": [
    {
      "cell_type": "code",
      "source": [
        "!pip install statsmodels --upgrade"
      ],
      "metadata": {
        "colab": {
          "base_uri": "https://localhost:8080/"
        },
        "id": "s0eyW8DBvWhe",
        "outputId": "23e4a30f-9bbd-41c5-8b11-9c52409f4c0c"
      },
      "execution_count": null,
      "outputs": [
        {
          "output_type": "stream",
          "name": "stdout",
          "text": [
            "Looking in indexes: https://pypi.org/simple, https://us-python.pkg.dev/colab-wheels/public/simple/\n",
            "Requirement already satisfied: statsmodels in /usr/local/lib/python3.7/dist-packages (0.12.2)\n",
            "Collecting statsmodels\n",
            "  Downloading statsmodels-0.13.5-cp37-cp37m-manylinux_2_17_x86_64.manylinux2014_x86_64.whl (9.9 MB)\n",
            "\u001b[K     |████████████████████████████████| 9.9 MB 13.2 MB/s \n",
            "\u001b[?25hRequirement already satisfied: patsy>=0.5.2 in /usr/local/lib/python3.7/dist-packages (from statsmodels) (0.5.3)\n",
            "Requirement already satisfied: numpy>=1.17 in /usr/local/lib/python3.7/dist-packages (from statsmodels) (1.21.6)\n",
            "Requirement already satisfied: scipy<1.8,>=1.3 in /usr/local/lib/python3.7/dist-packages (from statsmodels) (1.7.3)\n",
            "Requirement already satisfied: pandas>=0.25 in /usr/local/lib/python3.7/dist-packages (from statsmodels) (1.3.5)\n",
            "Requirement already satisfied: packaging>=21.3 in /usr/local/lib/python3.7/dist-packages (from statsmodels) (21.3)\n",
            "Requirement already satisfied: pyparsing!=3.0.5,>=2.0.2 in /usr/local/lib/python3.7/dist-packages (from packaging>=21.3->statsmodels) (3.0.9)\n",
            "Requirement already satisfied: pytz>=2017.3 in /usr/local/lib/python3.7/dist-packages (from pandas>=0.25->statsmodels) (2022.6)\n",
            "Requirement already satisfied: python-dateutil>=2.7.3 in /usr/local/lib/python3.7/dist-packages (from pandas>=0.25->statsmodels) (2.8.2)\n",
            "Requirement already satisfied: six in /usr/local/lib/python3.7/dist-packages (from patsy>=0.5.2->statsmodels) (1.15.0)\n",
            "Installing collected packages: statsmodels\n",
            "  Attempting uninstall: statsmodels\n",
            "    Found existing installation: statsmodels 0.12.2\n",
            "    Uninstalling statsmodels-0.12.2:\n",
            "      Successfully uninstalled statsmodels-0.12.2\n",
            "Successfully installed statsmodels-0.13.5\n"
          ]
        }
      ]
    },
    {
      "cell_type": "code",
      "execution_count": null,
      "metadata": {
        "id": "XGgVO07Zh9N3"
      },
      "outputs": [],
      "source": [
        "import pandas as pd\n",
        "import numpy as np\n",
        "from matplotlib import pyplot\n",
        "from statsmodels.tsa.ar_model import AutoReg\n",
        "from statsmodels.tsa.stattools import adfuller"
      ]
    },
    {
      "cell_type": "markdown",
      "source": [
        "**Import Data**"
      ],
      "metadata": {
        "id": "_NFBgcUXjIbt"
      }
    },
    {
      "cell_type": "code",
      "source": [
        "df = pd.read_csv('/content/Electric_Production.csv',index_col=0, parse_dates=True)\n",
        "X = df.values\n",
        "print('Shape of data \\t',df.shape)\n",
        "print('Original Dataset: \\n',df.head())\n",
        "print('After Extracting only necessary values: \\n',X)"
      ],
      "metadata": {
        "id": "2nMWIlNYjKRG",
        "colab": {
          "base_uri": "https://localhost:8080/"
        },
        "outputId": "7beb91f4-ad13-45da-9934-b45788e976b4"
      },
      "execution_count": null,
      "outputs": [
        {
          "output_type": "stream",
          "name": "stdout",
          "text": [
            "Shape of data \t (397, 1)\n",
            "Original Dataset: \n",
            "             IPG2211A2N\n",
            "DATE                  \n",
            "1985-01-01     72.5052\n",
            "1985-02-01     70.6720\n",
            "1985-03-01     62.4502\n",
            "1985-04-01     57.4714\n",
            "1985-05-01     55.3151\n",
            "After Extracting only necessary values: \n",
            " [[ 72.5052]\n",
            " [ 70.672 ]\n",
            " [ 62.4502]\n",
            " [ 57.4714]\n",
            " [ 55.3151]\n",
            " [ 58.0904]\n",
            " [ 62.6202]\n",
            " [ 63.2485]\n",
            " [ 60.5846]\n",
            " [ 56.3154]\n",
            " [ 58.0005]\n",
            " [ 68.7145]\n",
            " [ 73.3057]\n",
            " [ 67.9869]\n",
            " [ 62.2221]\n",
            " [ 57.0329]\n",
            " [ 55.8137]\n",
            " [ 59.9005]\n",
            " [ 65.7655]\n",
            " [ 64.4816]\n",
            " [ 61.0005]\n",
            " [ 57.5322]\n",
            " [ 59.3417]\n",
            " [ 68.1354]\n",
            " [ 73.8152]\n",
            " [ 70.062 ]\n",
            " [ 65.61  ]\n",
            " [ 60.1586]\n",
            " [ 58.8734]\n",
            " [ 63.8918]\n",
            " [ 68.8694]\n",
            " [ 70.0669]\n",
            " [ 64.1151]\n",
            " [ 60.3789]\n",
            " [ 62.4643]\n",
            " [ 70.5777]\n",
            " [ 79.8703]\n",
            " [ 76.1622]\n",
            " [ 70.2928]\n",
            " [ 63.2384]\n",
            " [ 61.4065]\n",
            " [ 67.1097]\n",
            " [ 72.9816]\n",
            " [ 75.7655]\n",
            " [ 67.5152]\n",
            " [ 63.2832]\n",
            " [ 65.1078]\n",
            " [ 73.8631]\n",
            " [ 77.9188]\n",
            " [ 76.6822]\n",
            " [ 73.3523]\n",
            " [ 65.1081]\n",
            " [ 63.6892]\n",
            " [ 68.4722]\n",
            " [ 74.0301]\n",
            " [ 75.0448]\n",
            " [ 69.3053]\n",
            " [ 65.8735]\n",
            " [ 69.0706]\n",
            " [ 84.1949]\n",
            " [ 84.3598]\n",
            " [ 77.1726]\n",
            " [ 73.1964]\n",
            " [ 67.2781]\n",
            " [ 65.8218]\n",
            " [ 71.4654]\n",
            " [ 76.614 ]\n",
            " [ 77.1052]\n",
            " [ 73.061 ]\n",
            " [ 67.4365]\n",
            " [ 68.5665]\n",
            " [ 77.6839]\n",
            " [ 86.0214]\n",
            " [ 77.5573]\n",
            " [ 73.365 ]\n",
            " [ 67.15  ]\n",
            " [ 68.8162]\n",
            " [ 74.8448]\n",
            " [ 80.0928]\n",
            " [ 79.1606]\n",
            " [ 73.5743]\n",
            " [ 68.7538]\n",
            " [ 72.5166]\n",
            " [ 79.4894]\n",
            " [ 85.2855]\n",
            " [ 80.1643]\n",
            " [ 74.5275]\n",
            " [ 69.6441]\n",
            " [ 67.1784]\n",
            " [ 71.2078]\n",
            " [ 77.5081]\n",
            " [ 76.5374]\n",
            " [ 72.3541]\n",
            " [ 69.0286]\n",
            " [ 73.4992]\n",
            " [ 84.5159]\n",
            " [ 87.9464]\n",
            " [ 84.5561]\n",
            " [ 79.4747]\n",
            " [ 71.0578]\n",
            " [ 67.6762]\n",
            " [ 74.3297]\n",
            " [ 82.1048]\n",
            " [ 82.0605]\n",
            " [ 74.6031]\n",
            " [ 69.681 ]\n",
            " [ 74.4292]\n",
            " [ 84.2284]\n",
            " [ 94.1386]\n",
            " [ 87.1607]\n",
            " [ 79.2456]\n",
            " [ 70.9749]\n",
            " [ 69.3844]\n",
            " [ 77.9831]\n",
            " [ 83.277 ]\n",
            " [ 81.8872]\n",
            " [ 75.6826]\n",
            " [ 71.2661]\n",
            " [ 75.2458]\n",
            " [ 84.8147]\n",
            " [ 92.4532]\n",
            " [ 87.4033]\n",
            " [ 81.2661]\n",
            " [ 73.8167]\n",
            " [ 73.2682]\n",
            " [ 78.3026]\n",
            " [ 85.9841]\n",
            " [ 89.5467]\n",
            " [ 78.5035]\n",
            " [ 73.7066]\n",
            " [ 79.6543]\n",
            " [ 90.8251]\n",
            " [ 98.9732]\n",
            " [ 92.8883]\n",
            " [ 86.9356]\n",
            " [ 77.2214]\n",
            " [ 76.6826]\n",
            " [ 81.9306]\n",
            " [ 85.9606]\n",
            " [ 86.5562]\n",
            " [ 79.1919]\n",
            " [ 74.6891]\n",
            " [ 81.074 ]\n",
            " [ 90.4855]\n",
            " [ 98.4613]\n",
            " [ 89.7795]\n",
            " [ 83.0125]\n",
            " [ 76.1476]\n",
            " [ 73.8471]\n",
            " [ 79.7645]\n",
            " [ 88.4519]\n",
            " [ 87.7828]\n",
            " [ 81.9386]\n",
            " [ 77.5027]\n",
            " [ 82.0448]\n",
            " [ 92.101 ]\n",
            " [ 94.792 ]\n",
            " [ 87.82  ]\n",
            " [ 86.5549]\n",
            " [ 76.7521]\n",
            " [ 78.0303]\n",
            " [ 86.4579]\n",
            " [ 93.8379]\n",
            " [ 93.531 ]\n",
            " [ 87.5414]\n",
            " [ 80.0924]\n",
            " [ 81.4349]\n",
            " [ 91.6841]\n",
            " [102.1348]\n",
            " [ 91.1829]\n",
            " [ 90.7381]\n",
            " [ 80.5176]\n",
            " [ 79.3887]\n",
            " [ 87.8431]\n",
            " [ 97.4903]\n",
            " [ 96.4157]\n",
            " [ 87.2248]\n",
            " [ 80.6409]\n",
            " [ 82.2025]\n",
            " [ 94.5113]\n",
            " [102.2301]\n",
            " [ 94.2989]\n",
            " [ 88.0927]\n",
            " [ 81.4425]\n",
            " [ 84.4552]\n",
            " [ 91.0406]\n",
            " [ 95.9957]\n",
            " [ 99.3704]\n",
            " [ 90.9178]\n",
            " [ 83.1408]\n",
            " [ 88.041 ]\n",
            " [102.4558]\n",
            " [109.1081]\n",
            " [ 97.1717]\n",
            " [ 92.8283]\n",
            " [ 82.915 ]\n",
            " [ 82.5465]\n",
            " [ 90.3955]\n",
            " [ 96.074 ]\n",
            " [ 99.5534]\n",
            " [ 88.281 ]\n",
            " [ 82.686 ]\n",
            " [ 82.9319]\n",
            " [ 93.0381]\n",
            " [102.9955]\n",
            " [ 95.2075]\n",
            " [ 93.2556]\n",
            " [ 85.795 ]\n",
            " [ 85.2351]\n",
            " [ 93.1896]\n",
            " [102.393 ]\n",
            " [101.6293]\n",
            " [ 93.3089]\n",
            " [ 86.9002]\n",
            " [ 88.5749]\n",
            " [100.8003]\n",
            " [110.1807]\n",
            " [103.8413]\n",
            " [ 94.5532]\n",
            " [ 85.062 ]\n",
            " [ 85.4653]\n",
            " [ 91.0761]\n",
            " [102.22  ]\n",
            " [104.4682]\n",
            " [ 92.9135]\n",
            " [ 86.5047]\n",
            " [ 88.5735]\n",
            " [103.5428]\n",
            " [113.7226]\n",
            " [106.159 ]\n",
            " [ 95.4029]\n",
            " [ 86.7233]\n",
            " [ 89.0302]\n",
            " [ 95.5045]\n",
            " [101.7948]\n",
            " [100.2025]\n",
            " [ 94.024 ]\n",
            " [ 87.5262]\n",
            " [ 89.6144]\n",
            " [105.7263]\n",
            " [111.1614]\n",
            " [101.7795]\n",
            " [ 98.9565]\n",
            " [ 86.4776]\n",
            " [ 87.2234]\n",
            " [ 99.5076]\n",
            " [108.3501]\n",
            " [109.4862]\n",
            " [ 99.1155]\n",
            " [ 89.7567]\n",
            " [ 90.4587]\n",
            " [108.2257]\n",
            " [104.4724]\n",
            " [101.5196]\n",
            " [ 98.4017]\n",
            " [ 87.5093]\n",
            " [ 90.0222]\n",
            " [100.5244]\n",
            " [110.9503]\n",
            " [111.5192]\n",
            " [ 95.7632]\n",
            " [ 90.3738]\n",
            " [ 92.3566]\n",
            " [103.066 ]\n",
            " [112.0576]\n",
            " [111.8399]\n",
            " [ 99.1925]\n",
            " [ 90.8177]\n",
            " [ 92.0587]\n",
            " [100.9676]\n",
            " [107.5686]\n",
            " [114.1036]\n",
            " [101.5316]\n",
            " [ 93.0068]\n",
            " [ 93.9126]\n",
            " [106.7528]\n",
            " [114.8331]\n",
            " [108.2353]\n",
            " [100.4386]\n",
            " [ 90.9944]\n",
            " [ 91.2348]\n",
            " [103.9581]\n",
            " [110.7631]\n",
            " [107.5665]\n",
            " [ 97.7183]\n",
            " [ 90.9979]\n",
            " [ 93.8057]\n",
            " [109.4221]\n",
            " [116.8316]\n",
            " [104.4202]\n",
            " [ 97.8529]\n",
            " [ 88.1973]\n",
            " [ 87.5366]\n",
            " [ 97.2387]\n",
            " [103.9086]\n",
            " [105.7486]\n",
            " [ 94.8823]\n",
            " [ 89.2977]\n",
            " [ 89.3585]\n",
            " [110.6844]\n",
            " [119.0166]\n",
            " [110.533 ]\n",
            " [ 98.2672]\n",
            " [ 86.3   ]\n",
            " [ 90.8364]\n",
            " [104.3538]\n",
            " [112.8066]\n",
            " [112.9014]\n",
            " [100.1209]\n",
            " [ 88.9251]\n",
            " [ 92.775 ]\n",
            " [114.3266]\n",
            " [119.488 ]\n",
            " [107.3753]\n",
            " [ 99.1028]\n",
            " [ 89.3583]\n",
            " [ 90.0698]\n",
            " [102.8204]\n",
            " [114.7068]\n",
            " [113.5958]\n",
            " [ 99.4712]\n",
            " [ 90.3566]\n",
            " [ 93.8095]\n",
            " [107.3312]\n",
            " [111.9646]\n",
            " [103.3679]\n",
            " [ 93.5772]\n",
            " [ 87.5566]\n",
            " [ 92.7603]\n",
            " [101.14  ]\n",
            " [113.0357]\n",
            " [109.8601]\n",
            " [ 96.7431]\n",
            " [ 90.3805]\n",
            " [ 94.3417]\n",
            " [105.2722]\n",
            " [115.501 ]\n",
            " [106.734 ]\n",
            " [102.9948]\n",
            " [ 91.0092]\n",
            " [ 90.9634]\n",
            " [100.6957]\n",
            " [110.148 ]\n",
            " [108.1756]\n",
            " [ 99.2809]\n",
            " [ 91.7871]\n",
            " [ 97.2853]\n",
            " [113.4732]\n",
            " [124.2549]\n",
            " [112.8811]\n",
            " [104.7631]\n",
            " [ 90.2867]\n",
            " [ 92.134 ]\n",
            " [101.878 ]\n",
            " [108.5497]\n",
            " [108.194 ]\n",
            " [100.4172]\n",
            " [ 92.3837]\n",
            " [ 99.7033]\n",
            " [109.3477]\n",
            " [120.2696]\n",
            " [116.3788]\n",
            " [104.4706]\n",
            " [ 89.7461]\n",
            " [ 91.093 ]\n",
            " [102.6495]\n",
            " [111.6354]\n",
            " [110.5925]\n",
            " [101.9204]\n",
            " [ 91.5959]\n",
            " [ 93.0628]\n",
            " [103.2203]\n",
            " [117.0837]\n",
            " [106.6688]\n",
            " [ 95.3548]\n",
            " [ 89.3254]\n",
            " [ 90.7369]\n",
            " [104.0375]\n",
            " [114.5397]\n",
            " [115.5159]\n",
            " [102.7637]\n",
            " [ 91.4867]\n",
            " [ 92.89  ]\n",
            " [112.7694]\n",
            " [114.8505]\n",
            " [ 99.4901]\n",
            " [101.0396]\n",
            " [ 88.353 ]\n",
            " [ 92.0805]\n",
            " [102.1532]\n",
            " [112.1538]\n",
            " [108.9312]\n",
            " [ 98.6154]\n",
            " [ 93.6137]\n",
            " [ 97.3359]\n",
            " [114.7212]\n",
            " [129.4048]]\n"
          ]
        }
      ]
    },
    {
      "cell_type": "code",
      "source": [
        "df.plot()"
      ],
      "metadata": {
        "colab": {
          "base_uri": "https://localhost:8080/",
          "height": 296
        },
        "id": "X9ZW42c1rNoy",
        "outputId": "7608321a-b387-4b36-d2c6-71e966a67718"
      },
      "execution_count": null,
      "outputs": [
        {
          "output_type": "execute_result",
          "data": {
            "text/plain": [
              "<matplotlib.axes._subplots.AxesSubplot at 0x7ff3e8574450>"
            ]
          },
          "metadata": {},
          "execution_count": 4
        },
        {
          "output_type": "display_data",
          "data": {
            "text/plain": [
              "<Figure size 432x288 with 1 Axes>"
            ],
            "image/png": "[encoded data removed]"
          },
          "metadata": {
            "needs_background": "light"
          }
        }
      ]
    },
    {
      "cell_type": "markdown",
      "source": [
        "**Check for Stationarity**"
      ],
      "metadata": {
        "id": "PSIr1UHoj2Es"
      }
    },
    {
      "cell_type": "code",
      "source": [
        "def Augmented_Dickey_Fuller_Test_func(series , column_name):\n",
        "    print (f'Results of Dickey-Fuller Test for column: {column_name}')\n",
        "    dftest = adfuller(series, autolag='AIC') #AIC: Method to use when automatically determining the lag length among the values 0, 1, …, maxlag\n",
        "    dfoutput = pd.Series(dftest[0:4], index=['Test Statistic','p-value','No Lags Used','Number of Observations Used'])\n",
        "    for key,value in dftest[4].items():\n",
        "       dfoutput['Critical Value (%s)'%key] = value #Critical values for the ADF test for 1, 5, and 10% significance levels with the constant model are −3.43, −2.87, and −2.57, respectively.\n",
        "    print (dfoutput)\n",
        "    if dftest[1] <= 0.05:\n",
        "        print(\"Conclusion:====>\")\n",
        "        print(\"Reject the null hypothesis\")\n",
        "        print(\"Data is stationary\")\n",
        "    else:\n",
        "        print(\"Conclusion:====>\")\n",
        "        print(\"Fail to reject the null hypothesis\")\n",
        "        print(\"Data is non-stationary\")\n",
        "        "
      ],
      "metadata": {
        "id": "ndjbEx8rrW1h"
      },
      "execution_count": null,
      "outputs": []
    },
    {
      "cell_type": "code",
      "source": [
        "Augmented_Dickey_Fuller_Test_func(df['IPG2211A2N'], 'value')"
      ],
      "metadata": {
        "colab": {
          "base_uri": "https://localhost:8080/"
        },
        "id": "imphCay8r8Tx",
        "outputId": "a21de76c-ca01-4690-a79b-f3924577f79e"
      },
      "execution_count": null,
      "outputs": [
        {
          "output_type": "stream",
          "name": "stdout",
          "text": [
            "Results of Dickey-Fuller Test for column: value\n",
            "Test Statistic                  -2.256990\n",
            "p-value                          0.186215\n",
            "No Lags Used                    15.000000\n",
            "Number of Observations Used    381.000000\n",
            "Critical Value (1%)             -3.447631\n",
            "Critical Value (5%)             -2.869156\n",
            "Critical Value (10%)            -2.570827\n",
            "dtype: float64\n",
            "Conclusion:====>\n",
            "Fail to reject the null hypothesis\n",
            "Data is non-stationary\n"
          ]
        }
      ]
    },
    {
      "cell_type": "code",
      "source": [
        "Augmented_Dickey_Fuller_Test_func(df['IPG2211A2N'].diff().dropna(),'value')"
      ],
      "metadata": {
        "colab": {
          "base_uri": "https://localhost:8080/"
        },
        "id": "RtIEV1NEsP_I",
        "outputId": "37ddfc5d-5d60-46cd-df16-3651e97a2327"
      },
      "execution_count": null,
      "outputs": [
        {
          "output_type": "stream",
          "name": "stdout",
          "text": [
            "Results of Dickey-Fuller Test for column: value\n",
            "Test Statistic                -7.104891e+00\n",
            "p-value                        4.077787e-10\n",
            "No Lags Used                   1.400000e+01\n",
            "Number of Observations Used    3.810000e+02\n",
            "Critical Value (1%)           -3.447631e+00\n",
            "Critical Value (5%)           -2.869156e+00\n",
            "Critical Value (10%)          -2.570827e+00\n",
            "dtype: float64\n",
            "Conclusion:====>\n",
            "Reject the null hypothesis\n",
            "Data is stationary\n"
          ]
        }
      ]
    },
    {
      "cell_type": "code",
      "source": [
        "from statsmodels.graphics.tsaplots import plot_pacf\n",
        "\n",
        "pacf = plot_pacf(df['IPG2211A2N'],lags=25)"
      ],
      "metadata": {
        "colab": {
          "base_uri": "https://localhost:8080/",
          "height": 336
        },
        "id": "ZlFv18yvsZRg",
        "outputId": "706aa820-5d8a-46aa-ce6e-1a5cef072a41"
      },
      "execution_count": null,
      "outputs": [
        {
          "output_type": "stream",
          "name": "stderr",
          "text": [
            "/usr/local/lib/python3.7/dist-packages/statsmodels/graphics/tsaplots.py:353: FutureWarning: The default method 'yw' can produce PACF values outside of the [-1,1] interval. After 0.13, the default will change tounadjusted Yule-Walker ('ywm'). You can use this method now by setting method='ywm'.\n",
            "  FutureWarning,\n"
          ]
        },
        {
          "output_type": "display_data",
          "data": {
            "text/plain": [
              "<Figure size 432x288 with 1 Axes>"
            ],
            "image/png": "[encoded data removed]"
          },
          "metadata": {
            "needs_background": "light"
          }
        }
      ]
    },
    {
      "cell_type": "markdown",
      "source": [
        "**Split Dataset into Train and Test \n",
        "Testing: Last 7 days**"
      ],
      "metadata": {
        "id": "cxGcm-TskxoV"
      }
    },
    {
      "cell_type": "code",
      "source": [
        "train = X [:len(X)-7]\n",
        "test = X [len(X)-7:]"
      ],
      "metadata": {
        "id": "0YYGzmFGkukG"
      },
      "execution_count": null,
      "outputs": []
    },
    {
      "cell_type": "markdown",
      "source": [
        "**Here is how the summary will look like:**"
      ],
      "metadata": {
        "id": "A1PbVPOppoe6"
      }
    },
    {
      "cell_type": "code",
      "source": [
        "model = AutoReg(train,lags=15).fit()\n",
        "print(model.summary())"
      ],
      "metadata": {
        "colab": {
          "base_uri": "https://localhost:8080/"
        },
        "id": "gouvsAnuwXFy",
        "outputId": "c88a86d5-db8c-448f-8ac1-796acc09d484"
      },
      "execution_count": null,
      "outputs": [
        {
          "output_type": "stream",
          "name": "stdout",
          "text": [
            "                            AutoReg Model Results                             \n",
            "==============================================================================\n",
            "Dep. Variable:                      y   No. Observations:                  390\n",
            "Model:                    AutoReg(15)   Log Likelihood                -884.573\n",
            "Method:               Conditional MLE   S.D. of innovations              2.560\n",
            "Date:                Wed, 16 Nov 2022   AIC                           1803.147\n",
            "Time:                        15:55:18   BIC                           1869.905\n",
            "Sample:                            15   HQIC                          1829.650\n",
            "                                  390                                         \n",
            "==============================================================================\n",
            "                 coef    std err          z      P>|z|      [0.025      0.975]\n",
            "------------------------------------------------------------------------------\n",
            "const          2.7941      0.975      2.866      0.004       0.883       4.705\n",
            "y.L1           0.5780      0.051     11.292      0.000       0.478       0.678\n",
            "y.L2          -0.1369      0.059     -2.316      0.021      -0.253      -0.021\n",
            "y.L3           0.1255      0.057      2.194      0.028       0.013       0.238\n",
            "y.L4          -0.0298      0.050     -0.594      0.553      -0.128       0.068\n",
            "y.L5           0.0846      0.051      1.657      0.098      -0.015       0.185\n",
            "y.L6          -0.0052      0.051     -0.101      0.919      -0.106       0.095\n",
            "y.L7           0.0755      0.051      1.468      0.142      -0.025       0.176\n",
            "y.L8          -0.0467      0.052     -0.902      0.367      -0.148       0.055\n",
            "y.L9          -0.0501      0.052     -0.968      0.333      -0.151       0.051\n",
            "y.L10          0.0322      0.052      0.621      0.535      -0.069       0.134\n",
            "y.L11          0.1428      0.052      2.763      0.006       0.041       0.244\n",
            "y.L12          0.6048      0.052     11.593      0.000       0.503       0.707\n",
            "y.L13         -0.3368      0.061     -5.561      0.000      -0.455      -0.218\n",
            "y.L14          0.0929      0.063      1.483      0.138      -0.030       0.216\n",
            "y.L15         -0.1569      0.053     -2.962      0.003      -0.261      -0.053\n",
            "                                    Roots                                     \n",
            "==============================================================================\n",
            "                   Real          Imaginary           Modulus         Frequency\n",
            "------------------------------------------------------------------------------\n",
            "AR.1            -1.0548           -0.0000j            1.0548           -0.5000\n",
            "AR.2            -0.9011           -0.5120j            1.0364           -0.4178\n",
            "AR.3            -0.9011           +0.5120j            1.0364            0.4178\n",
            "AR.4            -0.5562           -0.9056j            1.0628           -0.3377\n",
            "AR.5            -0.5562           +0.9056j            1.0628            0.3377\n",
            "AR.6            -0.0174           -1.0499j            1.0501           -0.2526\n",
            "AR.7            -0.0174           +1.0499j            1.0501            0.2526\n",
            "AR.8             0.4997           -0.8663j            1.0001           -0.1667\n",
            "AR.9             0.4997           +0.8663j            1.0001            0.1667\n",
            "AR.10            0.8796           -0.5180j            1.0208           -0.0847\n",
            "AR.11            0.8796           +0.5180j            1.0208            0.0847\n",
            "AR.12            1.0058           -0.0000j            1.0058           -0.0000\n",
            "AR.13            1.3908           -0.0000j            1.3908           -0.0000\n",
            "AR.14           -0.2793           -1.7376j            1.7600           -0.2754\n",
            "AR.15           -0.2793           +1.7376j            1.7600            0.2754\n",
            "------------------------------------------------------------------------------\n"
          ]
        }
      ]
    },
    {
      "cell_type": "code",
      "source": [
        "print (len(train))"
      ],
      "metadata": {
        "colab": {
          "base_uri": "https://localhost:8080/"
        },
        "id": "N37MFEinxfB5",
        "outputId": "0d5c1fa4-4510-45a9-a79c-7a09a0bb835b"
      },
      "execution_count": null,
      "outputs": [
        {
          "output_type": "stream",
          "name": "stdout",
          "text": [
            "390\n"
          ]
        }
      ]
    },
    {
      "cell_type": "markdown",
      "source": [
        "**Make prediction on test set and compare**"
      ],
      "metadata": {
        "id": "DckkY__elZRQ"
      }
    },
    {
      "cell_type": "code",
      "source": [
        "pred = model.predict(start=len(train),end=len(X)-1,dynamic = False)"
      ],
      "metadata": {
        "id": "XP8xUZwIlY_5"
      },
      "execution_count": null,
      "outputs": []
    },
    {
      "cell_type": "markdown",
      "source": [
        "**Once the model is trained, the final step is to make the predictions and evaluate the predictions against the test data.**"
      ],
      "metadata": {
        "id": "Bj1GlOaLp_9G"
      }
    },
    {
      "cell_type": "code",
      "source": [
        "from matplotlib import pyplot \n",
        "pyplot.plot(pred)\n",
        "pyplot.plot(test,color='red')\n",
        "print(pred)"
      ],
      "metadata": {
        "id": "glPaqhtSlRkg",
        "colab": {
          "base_uri": "https://localhost:8080/",
          "height": 300
        },
        "outputId": "a8810274-1ced-454d-f97d-b499c0071329"
      },
      "execution_count": null,
      "outputs": [
        {
          "output_type": "stream",
          "name": "stdout",
          "text": [
            "[113.18307635 114.27775075 100.50071446  91.34003115  94.52592868\n",
            " 109.84560828 113.10160517]\n"
          ]
        },
        {
          "output_type": "display_data",
          "data": {
            "text/plain": [
              "<Figure size 432x288 with 1 Axes>"
            ],
            "image/png": "[encoded data removed]"
          },
          "metadata": {
            "needs_background": "light"
          }
        }
      ]
    },
    {
      "cell_type": "markdown",
      "source": [
        "**Calculate error**"
      ],
      "metadata": {
        "id": "tSn-XeDDlvHZ"
      }
    },
    {
      "cell_type": "code",
      "source": [
        "from math import sqrt\n",
        "from sklearn.metrics import mean_squared_error\n",
        "rsme = sqrt(mean_squared_error(test,pred))"
      ],
      "metadata": {
        "id": "k_mriAfcltBL"
      },
      "execution_count": null,
      "outputs": []
    },
    {
      "cell_type": "code",
      "source": [
        "print(rsme)"
      ],
      "metadata": {
        "id": "hFipyPE8l8e5",
        "colab": {
          "base_uri": "https://localhost:8080/"
        },
        "outputId": "6ee8546d-6f13-4985-c617-819b99f175ca"
      },
      "execution_count": null,
      "outputs": [
        {
          "output_type": "stream",
          "name": "stdout",
          "text": [
            "6.926455395030688\n"
          ]
        }
      ]
    },
    {
      "cell_type": "markdown",
      "source": [
        "**Making Future Prediction**"
      ],
      "metadata": {
        "id": "zbe4A4tol-ay"
      }
    },
    {
      "cell_type": "code",
      "source": [
        "pred_future=model.predict(start=len(X)+1,end=len(X)+7,dynamic=False)\n",
        "print(\"The future prediction for the next week\")\n",
        "print(pred_future)\n",
        "print(\"No. of predictions made: \\t\", len(pred_future))\n"
      ],
      "metadata": {
        "id": "0l-YX_rumA7h",
        "colab": {
          "base_uri": "https://localhost:8080/"
        },
        "outputId": "62eccf90-7658-4da8-da1b-42f2b6831298"
      },
      "execution_count": null,
      "outputs": [
        {
          "output_type": "stream",
          "name": "stdout",
          "text": [
            "The future prediction for the next week\n",
            "[ 99.99252583  88.44632658  93.13684724 103.77430398 113.96186256\n",
            " 113.4402748   99.91450516]\n",
            "No. of predictions made: \t 7\n"
          ]
        }
      ]
    },
    {
      "cell_type": "code",
      "source": [
        "rsme = sqrt(mean_squared_error(pred,pred_future))"
      ],
      "metadata": {
        "id": "Amt8OFkz0P3g"
      },
      "execution_count": null,
      "outputs": []
    },
    {
      "cell_type": "code",
      "source": [
        "print(rsme)"
      ],
      "metadata": {
        "colab": {
          "base_uri": "https://localhost:8080/"
        },
        "id": "Ow1-3rd30PsP",
        "outputId": "7d311c59-8c63-4c49-faf1-60d2dae65d41"
      },
      "execution_count": null,
      "outputs": [
        {
          "output_type": "stream",
          "name": "stdout",
          "text": [
            "15.187718435264724\n"
          ]
        }
      ]
    },
    {
      "cell_type": "markdown",
      "source": [
        "**Implement ARIMA Model**"
      ],
      "metadata": {
        "id": "oIDix9keuSx9"
      }
    },
    {
      "cell_type": "code",
      "source": [
        "pip install pmdarima"
      ],
      "metadata": {
        "colab": {
          "base_uri": "https://localhost:8080/"
        },
        "id": "8mbPK5snvAt7",
        "outputId": "6ccc49d0-80e8-48e0-fe34-d80e681c6023"
      },
      "execution_count": null,
      "outputs": [
        {
          "output_type": "stream",
          "name": "stdout",
          "text": [
            "Looking in indexes: https://pypi.org/simple, https://us-python.pkg.dev/colab-wheels/public/simple/\n",
            "Collecting pmdarima\n",
            "  Downloading pmdarima-2.0.1-cp37-cp37m-manylinux_2_17_x86_64.manylinux2014_x86_64.manylinux_2_28_x86_64.whl (1.8 MB)\n",
            "\u001b[K     |████████████████████████████████| 1.8 MB 14.8 MB/s \n",
            "\u001b[?25hRequirement already satisfied: urllib3 in /usr/local/lib/python3.7/dist-packages (from pmdarima) (1.24.3)\n",
            "Requirement already satisfied: pandas>=0.19 in /usr/local/lib/python3.7/dist-packages (from pmdarima) (1.3.5)\n",
            "Requirement already satisfied: scipy>=1.3.2 in /usr/local/lib/python3.7/dist-packages (from pmdarima) (1.7.3)\n",
            "Requirement already satisfied: numpy>=1.21 in /usr/local/lib/python3.7/dist-packages (from pmdarima) (1.21.6)\n",
            "Requirement already satisfied: setuptools!=50.0.0,>=38.6.0 in /usr/local/lib/python3.7/dist-packages (from pmdarima) (57.4.0)\n",
            "Requirement already satisfied: scikit-learn>=0.22 in /usr/local/lib/python3.7/dist-packages (from pmdarima) (1.0.2)\n",
            "Requirement already satisfied: Cython!=0.29.18,!=0.29.31,>=0.29 in /usr/local/lib/python3.7/dist-packages (from pmdarima) (0.29.32)\n",
            "Requirement already satisfied: statsmodels>=0.13.2 in /usr/local/lib/python3.7/dist-packages (from pmdarima) (0.13.5)\n",
            "Requirement already satisfied: joblib>=0.11 in /usr/local/lib/python3.7/dist-packages (from pmdarima) (1.2.0)\n",
            "Requirement already satisfied: python-dateutil>=2.7.3 in /usr/local/lib/python3.7/dist-packages (from pandas>=0.19->pmdarima) (2.8.2)\n",
            "Requirement already satisfied: pytz>=2017.3 in /usr/local/lib/python3.7/dist-packages (from pandas>=0.19->pmdarima) (2022.6)\n",
            "Requirement already satisfied: six>=1.5 in /usr/local/lib/python3.7/dist-packages (from python-dateutil>=2.7.3->pandas>=0.19->pmdarima) (1.15.0)\n",
            "Requirement already satisfied: threadpoolctl>=2.0.0 in /usr/local/lib/python3.7/dist-packages (from scikit-learn>=0.22->pmdarima) (3.1.0)\n",
            "Requirement already satisfied: patsy>=0.5.2 in /usr/local/lib/python3.7/dist-packages (from statsmodels>=0.13.2->pmdarima) (0.5.3)\n",
            "Requirement already satisfied: packaging>=21.3 in /usr/local/lib/python3.7/dist-packages (from statsmodels>=0.13.2->pmdarima) (21.3)\n",
            "Requirement already satisfied: pyparsing!=3.0.5,>=2.0.2 in /usr/local/lib/python3.7/dist-packages (from packaging>=21.3->statsmodels>=0.13.2->pmdarima) (3.0.9)\n",
            "Installing collected packages: pmdarima\n",
            "Successfully installed pmdarima-2.0.1\n"
          ]
        }
      ]
    },
    {
      "cell_type": "code",
      "source": [
        "from pmdarima.arima import auto_arima\n",
        "obj=auto_arima(df['IPG2211A2N'],trace='True',supress_warning='True',lags=15)\n",
        "obj.summary()"
      ],
      "metadata": {
        "colab": {
          "base_uri": "https://localhost:8080/",
          "height": 971
        },
        "id": "pejwl61svGHS",
        "outputId": "675e3d66-a8c0-4252-c33f-3c0f89fd3488"
      },
      "execution_count": null,
      "outputs": [
        {
          "output_type": "stream",
          "name": "stdout",
          "text": [
            "Performing stepwise search to minimize aic\n",
            " ARIMA(2,1,2)(0,0,0)[0] intercept   : AIC=inf, Time=0.89 sec\n",
            " ARIMA(0,1,0)(0,0,0)[0] intercept   : AIC=2750.050, Time=0.05 sec\n",
            " ARIMA(1,1,0)(0,0,0)[0] intercept   : AIC=2691.759, Time=0.08 sec\n",
            " ARIMA(0,1,1)(0,0,0)[0] intercept   : AIC=2624.463, Time=0.11 sec\n",
            " ARIMA(0,1,0)(0,0,0)[0]             : AIC=2748.185, Time=0.12 sec\n",
            " ARIMA(1,1,1)(0,0,0)[0] intercept   : AIC=2625.508, Time=0.15 sec\n",
            " ARIMA(0,1,2)(0,0,0)[0] intercept   : AIC=2525.516, Time=0.23 sec\n",
            " ARIMA(1,1,2)(0,0,0)[0] intercept   : AIC=2493.118, Time=0.25 sec\n",
            " ARIMA(1,1,3)(0,0,0)[0] intercept   : AIC=2449.570, Time=0.37 sec\n",
            " ARIMA(0,1,3)(0,0,0)[0] intercept   : AIC=2449.577, Time=0.47 sec\n",
            " ARIMA(2,1,3)(0,0,0)[0] intercept   : AIC=inf, Time=0.89 sec\n",
            " ARIMA(1,1,4)(0,0,0)[0] intercept   : AIC=2431.710, Time=0.51 sec\n",
            " ARIMA(0,1,4)(0,0,0)[0] intercept   : AIC=2431.461, Time=0.35 sec\n",
            " ARIMA(0,1,5)(0,0,0)[0] intercept   : AIC=2359.635, Time=0.56 sec\n",
            " ARIMA(1,1,5)(0,0,0)[0] intercept   : AIC=2349.722, Time=1.21 sec\n",
            " ARIMA(2,1,5)(0,0,0)[0] intercept   : AIC=2065.592, Time=4.41 sec\n",
            " ARIMA(2,1,4)(0,0,0)[0] intercept   : AIC=2058.740, Time=3.20 sec\n",
            " ARIMA(3,1,4)(0,0,0)[0] intercept   : AIC=2077.509, Time=4.07 sec\n",
            " ARIMA(3,1,3)(0,0,0)[0] intercept   : AIC=inf, Time=3.69 sec\n",
            " ARIMA(3,1,5)(0,0,0)[0] intercept   : AIC=2060.098, Time=3.57 sec\n",
            " ARIMA(2,1,4)(0,0,0)[0]             : AIC=2071.221, Time=2.00 sec\n",
            "\n",
            "Best model:  ARIMA(2,1,4)(0,0,0)[0] intercept\n",
            "Total fit time: 27.246 seconds\n"
          ]
        },
        {
          "output_type": "execute_result",
          "data": {
            "text/plain": [
              "<class 'statsmodels.iolib.summary.Summary'>\n",
              "\"\"\"\n",
              "                               SARIMAX Results                                \n",
              "==============================================================================\n",
              "Dep. Variable:                      y   No. Observations:                  397\n",
              "Model:               SARIMAX(2, 1, 4)   Log Likelihood               -1021.370\n",
              "Date:                Wed, 16 Nov 2022   AIC                           2058.740\n",
              "Time:                        15:56:10   BIC                           2090.591\n",
              "Sample:                    01-01-1985   HQIC                          2071.358\n",
              "                         - 01-01-2018                                         \n",
              "Covariance Type:                  opg                                         \n",
              "==============================================================================\n",
              "                 coef    std err          z      P>|z|      [0.025      0.975]\n",
              "------------------------------------------------------------------------------\n",
              "intercept      0.1109      0.024      4.716      0.000       0.065       0.157\n",
              "ar.L1          0.9986      0.002    507.261      0.000       0.995       1.002\n",
              "ar.L2         -0.9993      0.001   -752.368      0.000      -1.002      -0.997\n",
              "ma.L1         -1.3644      0.038    -35.661      0.000      -1.439      -1.289\n",
              "ma.L2          0.9234      0.071     12.929      0.000       0.783       1.063\n",
              "ma.L3          0.0063      0.071      0.087      0.930      -0.134       0.146\n",
              "ma.L4         -0.4328      0.042    -10.243      0.000      -0.516      -0.350\n",
              "sigma2         9.8902      0.635     15.574      0.000       8.646      11.135\n",
              "===================================================================================\n",
              "Ljung-Box (L1) (Q):                   1.04   Jarque-Bera (JB):                22.01\n",
              "Prob(Q):                              0.31   Prob(JB):                         0.00\n",
              "Heteroskedasticity (H):               1.95   Skew:                             0.33\n",
              "Prob(H) (two-sided):                  0.00   Kurtosis:                         3.95\n",
              "===================================================================================\n",
              "\n",
              "Warnings:\n",
              "[1] Covariance matrix calculated using the outer product of gradients (complex-step).\n",
              "\"\"\""
            ],
            "text/html": [
              "<table class=\"simpletable\">\n",
              "<caption>SARIMAX Results</caption>\n",
              "<tr>\n",
              "  <th>Dep. Variable:</th>           <td>y</td>        <th>  No. Observations:  </th>    <td>397</td>   \n",
              "</tr>\n",
              "<tr>\n",
              "  <th>Model:</th>           <td>SARIMAX(2, 1, 4)</td> <th>  Log Likelihood     </th> <td>-1021.370</td>\n",
              "</tr>\n",
              "<tr>\n",
              "  <th>Date:</th>            <td>Wed, 16 Nov 2022</td> <th>  AIC                </th> <td>2058.740</td> \n",
              "</tr>\n",
              "<tr>\n",
              "  <th>Time:</th>                <td>15:56:10</td>     <th>  BIC                </th> <td>2090.591</td> \n",
              "</tr>\n",
              "<tr>\n",
              "  <th>Sample:</th>             <td>01-01-1985</td>    <th>  HQIC               </th> <td>2071.358</td> \n",
              "</tr>\n",
              "<tr>\n",
              "  <th></th>                   <td>- 01-01-2018</td>   <th>                     </th>     <td> </td>    \n",
              "</tr>\n",
              "<tr>\n",
              "  <th>Covariance Type:</th>        <td>opg</td>       <th>                     </th>     <td> </td>    \n",
              "</tr>\n",
              "</table>\n",
              "<table class=\"simpletable\">\n",
              "<tr>\n",
              "      <td></td>         <th>coef</th>     <th>std err</th>      <th>z</th>      <th>P>|z|</th>  <th>[0.025</th>    <th>0.975]</th>  \n",
              "</tr>\n",
              "<tr>\n",
              "  <th>intercept</th> <td>    0.1109</td> <td>    0.024</td> <td>    4.716</td> <td> 0.000</td> <td>    0.065</td> <td>    0.157</td>\n",
              "</tr>\n",
              "<tr>\n",
              "  <th>ar.L1</th>     <td>    0.9986</td> <td>    0.002</td> <td>  507.261</td> <td> 0.000</td> <td>    0.995</td> <td>    1.002</td>\n",
              "</tr>\n",
              "<tr>\n",
              "  <th>ar.L2</th>     <td>   -0.9993</td> <td>    0.001</td> <td> -752.368</td> <td> 0.000</td> <td>   -1.002</td> <td>   -0.997</td>\n",
              "</tr>\n",
              "<tr>\n",
              "  <th>ma.L1</th>     <td>   -1.3644</td> <td>    0.038</td> <td>  -35.661</td> <td> 0.000</td> <td>   -1.439</td> <td>   -1.289</td>\n",
              "</tr>\n",
              "<tr>\n",
              "  <th>ma.L2</th>     <td>    0.9234</td> <td>    0.071</td> <td>   12.929</td> <td> 0.000</td> <td>    0.783</td> <td>    1.063</td>\n",
              "</tr>\n",
              "<tr>\n",
              "  <th>ma.L3</th>     <td>    0.0063</td> <td>    0.071</td> <td>    0.087</td> <td> 0.930</td> <td>   -0.134</td> <td>    0.146</td>\n",
              "</tr>\n",
              "<tr>\n",
              "  <th>ma.L4</th>     <td>   -0.4328</td> <td>    0.042</td> <td>  -10.243</td> <td> 0.000</td> <td>   -0.516</td> <td>   -0.350</td>\n",
              "</tr>\n",
              "<tr>\n",
              "  <th>sigma2</th>    <td>    9.8902</td> <td>    0.635</td> <td>   15.574</td> <td> 0.000</td> <td>    8.646</td> <td>   11.135</td>\n",
              "</tr>\n",
              "</table>\n",
              "<table class=\"simpletable\">\n",
              "<tr>\n",
              "  <th>Ljung-Box (L1) (Q):</th>     <td>1.04</td> <th>  Jarque-Bera (JB):  </th> <td>22.01</td>\n",
              "</tr>\n",
              "<tr>\n",
              "  <th>Prob(Q):</th>                <td>0.31</td> <th>  Prob(JB):          </th> <td>0.00</td> \n",
              "</tr>\n",
              "<tr>\n",
              "  <th>Heteroskedasticity (H):</th> <td>1.95</td> <th>  Skew:              </th> <td>0.33</td> \n",
              "</tr>\n",
              "<tr>\n",
              "  <th>Prob(H) (two-sided):</th>    <td>0.00</td> <th>  Kurtosis:          </th> <td>3.95</td> \n",
              "</tr>\n",
              "</table><br/><br/>Warnings:<br/>[1] Covariance matrix calculated using the outer product of gradients (complex-step)."
            ]
          },
          "metadata": {},
          "execution_count": 20
        }
      ]
    },
    {
      "cell_type": "code",
      "source": [
        "train = X [:len(X)-30]\n",
        "test = X [len(X)-30:]"
      ],
      "metadata": {
        "id": "OxdD_bAOvLfa"
      },
      "execution_count": null,
      "outputs": []
    },
    {
      "cell_type": "code",
      "source": [
        "print (len(train))"
      ],
      "metadata": {
        "colab": {
          "base_uri": "https://localhost:8080/"
        },
        "id": "RC8A18pswfnH",
        "outputId": "7d29cc7c-a3ad-4dd7-bf6f-a70d9b431749"
      },
      "execution_count": null,
      "outputs": [
        {
          "output_type": "stream",
          "name": "stdout",
          "text": [
            "367\n"
          ]
        }
      ]
    },
    {
      "cell_type": "code",
      "source": [
        "pred = model.predict(start=len(train),end=len(X)-1,dynamic = False)"
      ],
      "metadata": {
        "id": "mXCK1pI0wpYg"
      },
      "execution_count": null,
      "outputs": []
    },
    {
      "cell_type": "code",
      "source": [
        "from matplotlib import pyplot \n",
        "pyplot.plot(pred)\n",
        "pyplot.plot(test,color='red')\n",
        "print(pred)"
      ],
      "metadata": {
        "colab": {
          "base_uri": "https://localhost:8080/",
          "height": 369
        },
        "outputId": "211e2581-e131-49cc-9517-a41b11a44f07",
        "id": "W-PB4zR2wtkE"
      },
      "execution_count": null,
      "outputs": [
        {
          "output_type": "stream",
          "name": "stdout",
          "text": [
            "[110.44317182 101.14431291  94.01971356  97.64518513 106.21218603\n",
            " 116.6173865  114.61593991  97.57350631  86.61209893  90.70268133\n",
            " 101.66788834 112.55580762 112.39257559 103.45175544  91.66310935\n",
            "  94.03199368 104.22803141 120.62855495 106.57449978  93.43720808\n",
            "  92.3973447   89.9369522  106.13980596 113.18307635 114.27775075\n",
            " 100.50071446  91.34003115  94.52592868 109.84560828 113.10160517]\n"
          ]
        },
        {
          "output_type": "display_data",
          "data": {
            "text/plain": [
              "<Figure size 432x288 with 1 Axes>"
            ],
            "image/png": "[encoded data removed]"
          },
          "metadata": {
            "needs_background": "light"
          }
        }
      ]
    },
    {
      "cell_type": "markdown",
      "source": [
        "**Calculate error**"
      ],
      "metadata": {
        "id": "Cwd1eswhrjqH"
      }
    },
    {
      "cell_type": "code",
      "source": [
        "from math import sqrt\n",
        "from sklearn.metrics import mean_squared_error\n",
        "rsme = sqrt(mean_squared_error(test,pred))"
      ],
      "metadata": {
        "id": "DWZwYLo4wugI"
      },
      "execution_count": null,
      "outputs": []
    },
    {
      "cell_type": "code",
      "source": [
        "print(rsme)"
      ],
      "metadata": {
        "colab": {
          "base_uri": "https://localhost:8080/"
        },
        "id": "bcM3cqAtw26Q",
        "outputId": "bd9d425a-bece-4d25-e2f3-ae52faa5b776"
      },
      "execution_count": null,
      "outputs": [
        {
          "output_type": "stream",
          "name": "stdout",
          "text": [
            "4.899745510541729\n"
          ]
        }
      ]
    },
    {
      "cell_type": "markdown",
      "source": [
        "**Making Future Prediction**"
      ],
      "metadata": {
        "id": "Xtlb0xW3rxT7"
      }
    },
    {
      "cell_type": "code",
      "source": [
        "pred_future=model.predict(start=len(X)+1,end=len(X)+30,dynamic=False)\n",
        "print(\"The future prediction for the next week\")\n",
        "print(pred_future)\n",
        "print(\"No. of predictions made: \\t\", len(pred_future))\n"
      ],
      "metadata": {
        "colab": {
          "base_uri": "https://localhost:8080/"
        },
        "id": "N-iK64SKw54Q",
        "outputId": "e4a23504-0662-4ab8-cb83-21d60799d04d"
      },
      "execution_count": null,
      "outputs": [
        {
          "output_type": "stream",
          "name": "stdout",
          "text": [
            "The future prediction for the next week\n",
            "[ 99.99252583  88.44632658  93.13684724 103.77430398 113.96186256\n",
            " 113.4402748   99.91450516  91.96227724  95.34793399 108.28994544\n",
            " 112.89303695 106.7235596   99.43064498  89.09937968  93.97515149\n",
            " 104.95302122 114.54056783 112.80561641  99.80275656  92.37210208\n",
            "  95.67418747 107.52049538 113.16452376 108.33243667  99.21036329\n",
            "  89.85297481  94.63217245 105.83381274 114.93586906 112.38307351]\n",
            "No. of predictions made: \t 30\n"
          ]
        }
      ]
    },
    {
      "cell_type": "code",
      "source": [
        "rsme = sqrt(mean_squared_error(pred,pred_future))"
      ],
      "metadata": {
        "id": "hDXhY8y9w91A"
      },
      "execution_count": null,
      "outputs": []
    },
    {
      "cell_type": "code",
      "source": [
        "print(rsme)"
      ],
      "metadata": {
        "colab": {
          "base_uri": "https://localhost:8080/"
        },
        "id": "GLMDoA3ixFnH",
        "outputId": "aa95a689-ea9d-4272-b6ce-d15bf874576b"
      },
      "execution_count": null,
      "outputs": [
        {
          "output_type": "stream",
          "name": "stdout",
          "text": [
            "9.632753616925045\n"
          ]
        }
      ]
    },
    {
      "cell_type": "code",
      "source": [
        "from matplotlib import pyplot \n",
        "pyplot.plot(pred_future)\n",
        "pyplot.plot(test,color='red')\n",
        "print(pred_future)"
      ],
      "metadata": {
        "colab": {
          "base_uri": "https://localhost:8080/",
          "height": 369
        },
        "id": "GBxm-NuY0KAV",
        "outputId": "69b07216-105c-4846-dac9-1d69e9faf033"
      },
      "execution_count": null,
      "outputs": [
        {
          "output_type": "stream",
          "name": "stdout",
          "text": [
            "[ 99.99252583  88.44632658  93.13684724 103.77430398 113.96186256\n",
            " 113.4402748   99.91450516  91.96227724  95.34793399 108.28994544\n",
            " 112.89303695 106.7235596   99.43064498  89.09937968  93.97515149\n",
            " 104.95302122 114.54056783 112.80561641  99.80275656  92.37210208\n",
            "  95.67418747 107.52049538 113.16452376 108.33243667  99.21036329\n",
            "  89.85297481  94.63217245 105.83381274 114.93586906 112.38307351]\n"
          ]
        },
        {
          "output_type": "display_data",
          "data": {
            "text/plain": [
              "<Figure size 432x288 with 1 Axes>"
            ],
            "image/png": "[encoded data removed]"
          },
          "metadata": {
            "needs_background": "light"
          }
        }
      ]
    }
  ]
}